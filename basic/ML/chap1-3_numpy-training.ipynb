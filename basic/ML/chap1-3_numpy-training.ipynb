{
 "cells": [
  {
   "cell_type": "markdown",
   "metadata": {},
   "source": [
    "### Numpy basic API training (summary)"
   ]
  },
  {
   "cell_type": "markdown",
   "metadata": {},
   "source": [
    "#### __Reviews__"
   ]
  },
  {
   "cell_type": "markdown",
   "metadata": {},
   "source": [
    "* __numpy.array(')__ : n-dimensional array 생성\n",
    "  \n",
    "* __numpy.array(').dtype__ : array 내 원소의 data type\n",
    "* __type(A)__ : A의 data type\n",
    "* __numpy.array(').shape__ : array의 size\n",
    "* __numpy.array(').ndim__ : array의 dimension (.shape의 length)\n",
    "* __numpy.array(').astype(')__ : array 내 원소의 data type 변환\n",
    "* __numpy.array(') .sum / .min / .max / .mean / .std__ : array 내 원소에 대한 기초 통계. 파라미터 값으로 axis = 0 -> 행 기준, axis = 1 -> 열 기준 계산\n",
    "* __numpy.arange(')__ : numpy array에서의 list(range('))\n",
    "* __numpy.zeros(tuple,dtype = ')__ : 모든 원소를 0으로 갖는 tuple size의 array 생성\n",
    "* __numpy.ones(tuple,dtype = ')__ : 모든 원소를 1로 갖는 tuple size의 array 생성\n",
    "* __numpy.array(').reshape(row,col)__ : array를 reshape의 row, col 크기로 재구성. .reshape(-1,)은 보통 matrix to vector로 하기위해 많이 쓰임.\n",
    "* __numpy indexing and slicing__ : list 자료형과 동일하나 fancy indexing, boolean indexing이 자유자재로 가능\n",
    "* __numpy.sort(A)__ : array A를 정렬. axis = 여부에 따라 행축정렬 또는 열축정렬 가능. python의 sorted(') 와 유사\n",
    "* __numpy.array(A).sort()__ : array A를 정렬하는 것은 같으나 python의 list.sort()와 같음.\n",
    "* __numpy.argsort(A)__ : A가 정렬이 적용된 array일때 A가 정렬되기 전의 index를 반환\n",
    "* __numpy.dot(A,B)__ : A와 B에 대한 inner product\n",
    "* __numpy.array(A).transpose()__ : array A의 전치"
   ]
  },
  {
   "cell_type": "code",
   "execution_count": 1,
   "metadata": {},
   "outputs": [],
   "source": [
    "# import numpy package\n",
    "import numpy as np"
   ]
  },
  {
   "cell_type": "code",
   "execution_count": 2,
   "metadata": {},
   "outputs": [
    {
     "name": "stdout",
     "output_type": "stream",
     "text": [
      "numpy array:  [ 1  2  3  4  5  6  7  8  9 10]\n"
     ]
    }
   ],
   "source": [
    "# generate ndarray (n-dimensional array)\n",
    "a = list(range(1,11))\n",
    "A = np.array(a)\n",
    "print('numpy array: ',A)"
   ]
  },
  {
   "cell_type": "code",
   "execution_count": 3,
   "metadata": {},
   "outputs": [
    {
     "name": "stdout",
     "output_type": "stream",
     "text": [
      "<class 'list'>\n",
      "<class 'numpy.ndarray'>\n",
      "int32\n"
     ]
    }
   ],
   "source": [
    "# the type of the variable\n",
    "print(type(a))\n",
    "print(type(A))\n",
    "# the type of the elements (only numpy)\n",
    "print(A.dtype)"
   ]
  },
  {
   "cell_type": "code",
   "execution_count": 4,
   "metadata": {},
   "outputs": [
    {
     "name": "stdout",
     "output_type": "stream",
     "text": [
      "shape:  (10,)\n",
      "dimension:  1\n"
     ]
    }
   ],
   "source": [
    "# the shape and dimension of ndarray\n",
    "print('shape: ',A.shape)\n",
    "print('dimension: ',A.ndim)"
   ]
  },
  {
   "cell_type": "code",
   "execution_count": 5,
   "metadata": {},
   "outputs": [
    {
     "name": "stdout",
     "output_type": "stream",
     "text": [
      "<U1\n",
      "[1. 2. 3. 4.]\n",
      "[1 2 3 4]\n"
     ]
    }
   ],
   "source": [
    "# transformation of the type of the elements\n",
    "strings = np.array(['1','2','3','4'])\n",
    "print(strings.dtype)\n",
    "print(strings.astype('float64')) # float\n",
    "print(strings.astype('int32')) # int"
   ]
  },
  {
   "cell_type": "code",
   "execution_count": 6,
   "metadata": {},
   "outputs": [
    {
     "name": "stdout",
     "output_type": "stream",
     "text": [
      "[[1 2 3]\n",
      " [4 5 6]\n",
      " [7 8 9]]\n",
      "45\n",
      "[ 6 15 24]\n",
      "[12 15 18]\n",
      "[1 2 3]\n",
      "[3 6 9]\n",
      "[4. 5. 6.]\n",
      "[0.81649658 0.81649658 0.81649658]\n"
     ]
    }
   ],
   "source": [
    "# ndarray methods\n",
    "A = np.array([[1,2,3],[4,5,6],[7,8,9]])\n",
    "\n",
    "print(A) # 2-dim array\n",
    "print(A.sum()) # sum of all elements\n",
    "print(A.sum(axis = 1)) # sum (column)\n",
    "print(A.sum(axis = 0)) # sum (row)\n",
    "print(A.min(axis = 0)) # minimum\n",
    "print(A.max(axis = 1)) # maximum\n",
    "print(A.mean(axis = 0)) # average\n",
    "print(A.std(axis = 1)) # standard deviation"
   ]
  },
  {
   "cell_type": "code",
   "execution_count": 7,
   "metadata": {},
   "outputs": [
    {
     "name": "stdout",
     "output_type": "stream",
     "text": [
      "[ 0  1  2  3  4  5  6  7  8  9 10]\n",
      "[[0 0 0]\n",
      " [0 0 0]\n",
      " [0 0 0]]\n",
      "[[1 1 1]\n",
      " [1 1 1]]\n"
     ]
    }
   ],
   "source": [
    "# generate the pre-allocation vector or basic array\n",
    "A = np.arange(11) # sequence (== range() in python)\n",
    "print(A)\n",
    "A = np.zeros((3,3),dtype = 'int32') # zero matrix (pre-allocation)\n",
    "print(A)\n",
    "A = np.ones((2,3),dtype = 'int32') # the matrix filled with 1\n",
    "print(A)"
   ]
  },
  {
   "cell_type": "code",
   "execution_count": 8,
   "metadata": {},
   "outputs": [
    {
     "name": "stdout",
     "output_type": "stream",
     "text": [
      "[[ 1  2  3  4  5]\n",
      " [ 6  7  8  9 10]]\n",
      "[ 1  2  3  4  5  6  7  8  9 10]\n",
      "[[ 1  2]\n",
      " [ 3  4]\n",
      " [ 5  6]\n",
      " [ 7  8]\n",
      " [ 9 10]]\n"
     ]
    }
   ],
   "source": [
    "# convert the matrix size: reshape()\n",
    "A = np.arange(1,11) # 1x10 vector\n",
    "print(A.reshape(2,5)) # 2x5 matrix\n",
    "print(A.reshape(2,5).reshape(-1,)) # reshape(-1,): 2d array -> 1d array \n",
    "# -1 is the pivot.\n",
    "print(A.reshape(-1,2)) # fix the column size = 2 and resize automatically"
   ]
  },
  {
   "cell_type": "code",
   "execution_count": 9,
   "metadata": {},
   "outputs": [
    {
     "name": "stdout",
     "output_type": "stream",
     "text": [
      "[ 1  2  3  4  5  6  7  8  9 10]\n",
      "[1 3 5]\n",
      "[False False False False False  True  True  True  True  True]\n",
      "[ 6  7  8  9 10]\n",
      "[10  9  8  7  6  5  4  3  2  1]\n"
     ]
    }
   ],
   "source": [
    "'''\n",
    "NOTE)\n",
    "Numpy indexing and slicing are the same as python built-in, but fancy indexing & boolean indexing is possible in numpy.\n",
    "\n",
    "Also note that the slicing [::-1] means that reverse the elements for given array.\n",
    "'''\n",
    "A = np.arange(1,11)\n",
    "print(A) # 1x10 vector\n",
    "print(A[[0,2,4]]) # fancy indexing\n",
    "print(A > 5) # boolean indexing\n",
    "print(A[A > 5]) # filtering using boolean indexing\n",
    "print(A[::-1]) # the elements are reversed"
   ]
  },
  {
   "cell_type": "code",
   "execution_count": 10,
   "metadata": {},
   "outputs": [
    {
     "name": "stdout",
     "output_type": "stream",
     "text": [
      "[5 3 2 8 1 6 7 7 0]\n",
      "[0 1 2 3 5 6 7 7 8]\n",
      "None\n",
      "[5 3 2 8 1 6 7 7 0]\n",
      "[0 1 2 3 5 6 7 7 8]\n",
      "[[5 1 0]\n",
      " [7 3 2]\n",
      " [8 7 6]]\n",
      "[0 1 2 3 5 6 7 7 8]\n",
      "[8 4 2 1 0 5 6 7 3]\n"
     ]
    }
   ],
   "source": [
    "# sorting methods for ndarray\n",
    "A = np.array([5,3,2,8,1,6,7,7,0])\n",
    "print(A) # 1x10 vector\n",
    "print(np.sort(A)) # sort A\n",
    "print(A.sort()) # return 'None'\n",
    "\n",
    "A = np.array([5,3,2,8,1,6,7,7,0])\n",
    "print(A) # original\n",
    "A.sort()\n",
    "print(A) # sorted array\n",
    "\n",
    "A = np.array([5,3,2,8,1,6,7,7,0]).reshape(3,3) # 3x3 matrix\n",
    "print(np.sort(A,axis = 0)) # sort based on row\n",
    "\n",
    "A = np.array([5,3,2,8,1,6,7,7,0])\n",
    "print(np.sort(A))\n",
    "# argsort: return the original index of the sorted array\n",
    "print(np.argsort(A))"
   ]
  },
  {
   "cell_type": "code",
   "execution_count": 11,
   "metadata": {},
   "outputs": [
    {
     "name": "stdout",
     "output_type": "stream",
     "text": [
      "inner product:\n",
      " [[0. 0.]\n",
      " [0. 0.]]\n"
     ]
    }
   ],
   "source": [
    "A = np.zeros((2,3))\n",
    "B = np.ones((3,2))\n",
    "print('inner product:\\n',np.dot(A,B)) # inner product"
   ]
  },
  {
   "cell_type": "code",
   "execution_count": 12,
   "metadata": {},
   "outputs": [
    {
     "name": "stdout",
     "output_type": "stream",
     "text": [
      "[[5 3 2]\n",
      " [8 1 6]\n",
      " [7 7 0]]\n",
      "[[5 8 7]\n",
      " [3 1 7]\n",
      " [2 6 0]]\n"
     ]
    }
   ],
   "source": [
    "A = np.array([5,3,2,8,1,6,7,7,0]).reshape(3,3)\n",
    "print(A) # the original\n",
    "print(A.transpose()) # transpose of A"
   ]
  }
 ],
 "metadata": {
  "kernelspec": {
   "display_name": "Python 3",
   "language": "python",
   "name": "python3"
  },
  "language_info": {
   "codemirror_mode": {
    "name": "ipython",
    "version": 3
   },
   "file_extension": ".py",
   "mimetype": "text/x-python",
   "name": "python",
   "nbconvert_exporter": "python",
   "pygments_lexer": "ipython3",
   "version": "3.7.4"
  }
 },
 "nbformat": 4,
 "nbformat_minor": 4
}
