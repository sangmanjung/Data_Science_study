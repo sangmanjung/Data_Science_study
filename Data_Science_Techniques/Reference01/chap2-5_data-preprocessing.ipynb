{
 "cells": [
  {
   "cell_type": "markdown",
   "metadata": {},
   "source": [
    "### Scikit-learn API training #3"
   ]
  },
  {
   "cell_type": "markdown",
   "metadata": {},
   "source": [
    "#### Data preprocessing  \n",
    "\n",
    "   * 데이터 클린징 (데이터 오류 수정)  \n",
    "   \n",
    "   * 결손값 처리 (Null / NaN 처리)\n",
    "   * 데이터 인코딩 (데이터가 명목형인 경우.. 레이블, 원-핫 인코딩)\n",
    "   * 데이터 스케일링 (각 컬럼의 단위가 다른경우.. 정규화,표준화)\n",
    "   * 이상치 제거 (터무니없는 값 포함된 것)\n",
    "   * Feature 선택, 추출 및 가공"
   ]
  },
  {
   "cell_type": "markdown",
   "metadata": {},
   "source": [
    "#### Data encoding \n",
    "\n",
    "   * __Label encoding__ : 명목형 값을 단순히 숫자로 매칭  \n",
    "    \n",
    "   * __One-hot encoding__ : feature 값의 유형에 따라 새로운 feature를 추가해서 고유 값에 해당하는 컬럼에만 1을 표시하고 나머지 컬럼에는 0을 표시하는 방법  \n",
    "   \n",
    "   Example)  \n",
    "   [청소기, 냉장고, TV]의 컬럼을 갖는 경우 청소기는 [1,0,0], 냉장고는 [0,1,0], TV는 [0,0,1]  \n",
    "     \n",
    "       - __One-hot encoding usin Pandas__ :\n",
    "               pandas.get_dummies(DataFrame)"
   ]
  },
  {
   "cell_type": "markdown",
   "metadata": {},
   "source": [
    "#### Feature Scaling\n",
    "\n",
    "   * __표준화(standardization)__ : 데이터 각각이 평균이 0, 분산이 1인 가우시안 정규 분포를 가진 값으로 변환하는 것  \n",
    "   \n",
    "        - Standardization formula :\n",
    "        \n",
    "             ### $z_i = {x_i - mean(x) \\over std(x)}$  \n",
    "          <br>\n",
    "        - __StandardScaler__ : 평균 0, 분산 1 인 정규분포 값을 따르도록 변환\n",
    "          <br>\n",
    "   * __정규화(normalization)__ : 서로 다른 feature의 크기를 통일하기 위해 크기를 변환해주는 것 \n",
    "   \n",
    "        - Normalization formula\n",
    "       \n",
    "           ### $z_i = {x_i - min(x) \\over max(x)-min(x)}$  \n",
    "           <br>\n",
    "        - __MinMaxScaler__ : 데이터 값을 0과 1 사이의 범위값으로 변환 (음수 ㄱ밧은 -1에서 1값으로 변환)"
   ]
  },
  {
   "cell_type": "markdown",
   "metadata": {},
   "source": []
  },
  {
   "cell_type": "markdown",
   "metadata": {},
   "source": [
    "###   "
   ]
  },
  {
   "cell_type": "markdown",
   "metadata": {},
   "source": [
    "* 레이블 인코딩(Label encoding)"
   ]
  },
  {
   "cell_type": "code",
   "execution_count": 1,
   "metadata": {},
   "outputs": [
    {
     "name": "stdout",
     "output_type": "stream",
     "text": [
      "Label encoding result :  [0 3 4 1 2]\n",
      "Label encoding class :  ['COVID-19' 'Dengue' 'Influenza' 'MERS' 'SAS']\n",
      "decoding result :  ['COVID-19' 'MERS' 'SAS' 'Dengue' 'Influenza']\n"
     ]
    }
   ],
   "source": [
    "from sklearn.preprocessing import LabelEncoder\n",
    "\n",
    "items = ['COVID-19','MERS','SAS','Dengue','Influenza']\n",
    "\n",
    "encoder = LabelEncoder()\n",
    "encoder.fit(items)\n",
    "labels = encoder.transform(items)\n",
    "# encoder.fit_transform(item) 은 fit과 transform 한번에 가능\n",
    "print('Label encoding result : ',labels)\n",
    "print('Label encoding class : ',encoder.classes_)\n",
    "print('decoding result : ',encoder.inverse_transform(labels))"
   ]
  },
  {
   "cell_type": "markdown",
   "metadata": {},
   "source": [
    "* 원-핫 인코딩(One-Hot encoding)"
   ]
  },
  {
   "cell_type": "code",
   "execution_count": 2,
   "metadata": {},
   "outputs": [
    {
     "name": "stdout",
     "output_type": "stream",
     "text": [
      "Label data: \n",
      " [[0]\n",
      " [3]\n",
      " [4]\n",
      " [1]\n",
      " [2]]\n",
      "\n",
      "One-Hot Encoding result\n",
      "[[1. 0. 0. 0. 0.]\n",
      " [0. 0. 0. 1. 0.]\n",
      " [0. 0. 0. 0. 1.]\n",
      " [0. 1. 0. 0. 0.]\n",
      " [0. 0. 1. 0. 0.]]\n",
      "\n",
      "One-Hot Encoding shape\n",
      "(5, 5)\n"
     ]
    },
    {
     "name": "stderr",
     "output_type": "stream",
     "text": [
      "C:\\Users\\92nor\\Anaconda3\\lib\\site-packages\\sklearn\\preprocessing\\_encoders.py:415: FutureWarning: The handling of integer data will change in version 0.22. Currently, the categories are determined based on the range [0, max(values)], while in the future they will be determined based on the unique values.\n",
      "If you want the future behaviour and silence this warning, you can specify \"categories='auto'\".\n",
      "In case you used a LabelEncoder before this OneHotEncoder to convert the categories to integers, then you can now use the OneHotEncoder directly.\n",
      "  warnings.warn(msg, FutureWarning)\n"
     ]
    }
   ],
   "source": [
    "## Scikit-learn 의 인코딩 방식 이용\n",
    "from sklearn.preprocessing import OneHotEncoder\n",
    "import numpy as np\n",
    "\n",
    "# 숫자값으로 변환을 먼저 한 후에 원-핫 인코딩 가능\n",
    "items = ['COVID-19','MERS','SAS','Dengue','Influenza']\n",
    "\n",
    "encoder = LabelEncoder()\n",
    "encoder.fit(items)\n",
    "labels = encoder.transform(items)\n",
    "\n",
    "# 2차원 배열로 변환\n",
    "labels = labels.reshape(-1,1)\n",
    "print('Label data: \\n',labels)\n",
    "\n",
    "oh_encoder = OneHotEncoder()\n",
    "oh_labels = oh_encoder.fit_transform(labels)\n",
    "\n",
    "print('\\nOne-Hot Encoding result')\n",
    "print(oh_labels.toarray())\n",
    "print('\\nOne-Hot Encoding shape')\n",
    "print(oh_labels.shape)"
   ]
  },
  {
   "cell_type": "code",
   "execution_count": 3,
   "metadata": {},
   "outputs": [
    {
     "data": {
      "text/html": [
       "<div>\n",
       "<style scoped>\n",
       "    .dataframe tbody tr th:only-of-type {\n",
       "        vertical-align: middle;\n",
       "    }\n",
       "\n",
       "    .dataframe tbody tr th {\n",
       "        vertical-align: top;\n",
       "    }\n",
       "\n",
       "    .dataframe thead th {\n",
       "        text-align: right;\n",
       "    }\n",
       "</style>\n",
       "<table border=\"1\" class=\"dataframe\">\n",
       "  <thead>\n",
       "    <tr style=\"text-align: right;\">\n",
       "      <th></th>\n",
       "      <th>item</th>\n",
       "    </tr>\n",
       "  </thead>\n",
       "  <tbody>\n",
       "    <tr>\n",
       "      <td>0</td>\n",
       "      <td>COVID-19</td>\n",
       "    </tr>\n",
       "    <tr>\n",
       "      <td>1</td>\n",
       "      <td>MERS</td>\n",
       "    </tr>\n",
       "    <tr>\n",
       "      <td>2</td>\n",
       "      <td>SAS</td>\n",
       "    </tr>\n",
       "    <tr>\n",
       "      <td>3</td>\n",
       "      <td>Dengue</td>\n",
       "    </tr>\n",
       "    <tr>\n",
       "      <td>4</td>\n",
       "      <td>Influenza</td>\n",
       "    </tr>\n",
       "  </tbody>\n",
       "</table>\n",
       "</div>"
      ],
      "text/plain": [
       "        item\n",
       "0   COVID-19\n",
       "1       MERS\n",
       "2        SAS\n",
       "3     Dengue\n",
       "4  Influenza"
      ]
     },
     "execution_count": 3,
     "metadata": {},
     "output_type": "execute_result"
    }
   ],
   "source": [
    "## Pandas 의 인코딩 방식 이용\n",
    "import pandas as pd\n",
    "\n",
    "df = pd.DataFrame({'item':items})\n",
    "df"
   ]
  },
  {
   "cell_type": "code",
   "execution_count": 4,
   "metadata": {},
   "outputs": [
    {
     "data": {
      "text/html": [
       "<div>\n",
       "<style scoped>\n",
       "    .dataframe tbody tr th:only-of-type {\n",
       "        vertical-align: middle;\n",
       "    }\n",
       "\n",
       "    .dataframe tbody tr th {\n",
       "        vertical-align: top;\n",
       "    }\n",
       "\n",
       "    .dataframe thead th {\n",
       "        text-align: right;\n",
       "    }\n",
       "</style>\n",
       "<table border=\"1\" class=\"dataframe\">\n",
       "  <thead>\n",
       "    <tr style=\"text-align: right;\">\n",
       "      <th></th>\n",
       "      <th>item_COVID-19</th>\n",
       "      <th>item_Dengue</th>\n",
       "      <th>item_Influenza</th>\n",
       "      <th>item_MERS</th>\n",
       "      <th>item_SAS</th>\n",
       "    </tr>\n",
       "  </thead>\n",
       "  <tbody>\n",
       "    <tr>\n",
       "      <td>0</td>\n",
       "      <td>1</td>\n",
       "      <td>0</td>\n",
       "      <td>0</td>\n",
       "      <td>0</td>\n",
       "      <td>0</td>\n",
       "    </tr>\n",
       "    <tr>\n",
       "      <td>1</td>\n",
       "      <td>0</td>\n",
       "      <td>0</td>\n",
       "      <td>0</td>\n",
       "      <td>1</td>\n",
       "      <td>0</td>\n",
       "    </tr>\n",
       "    <tr>\n",
       "      <td>2</td>\n",
       "      <td>0</td>\n",
       "      <td>0</td>\n",
       "      <td>0</td>\n",
       "      <td>0</td>\n",
       "      <td>1</td>\n",
       "    </tr>\n",
       "    <tr>\n",
       "      <td>3</td>\n",
       "      <td>0</td>\n",
       "      <td>1</td>\n",
       "      <td>0</td>\n",
       "      <td>0</td>\n",
       "      <td>0</td>\n",
       "    </tr>\n",
       "    <tr>\n",
       "      <td>4</td>\n",
       "      <td>0</td>\n",
       "      <td>0</td>\n",
       "      <td>1</td>\n",
       "      <td>0</td>\n",
       "      <td>0</td>\n",
       "    </tr>\n",
       "  </tbody>\n",
       "</table>\n",
       "</div>"
      ],
      "text/plain": [
       "   item_COVID-19  item_Dengue  item_Influenza  item_MERS  item_SAS\n",
       "0              1            0               0          0         0\n",
       "1              0            0               0          1         0\n",
       "2              0            0               0          0         1\n",
       "3              0            1               0          0         0\n",
       "4              0            0               1          0         0"
      ]
     },
     "execution_count": 4,
     "metadata": {},
     "output_type": "execute_result"
    }
   ],
   "source": [
    "pd.get_dummies(df) # One-Hot Encoding"
   ]
  },
  {
   "cell_type": "markdown",
   "metadata": {},
   "source": [
    "* Feature Scaling and Normalization"
   ]
  },
  {
   "cell_type": "code",
   "execution_count": 5,
   "metadata": {},
   "outputs": [
    {
     "name": "stdout",
     "output_type": "stream",
     "text": [
      "sepal length (cm)    5.843333\n",
      "sepal width (cm)     3.057333\n",
      "petal length (cm)    3.758000\n",
      "petal width (cm)     1.199333\n",
      "dtype: float64\n",
      "sepal length (cm)    0.685694\n",
      "sepal width (cm)     0.189979\n",
      "petal length (cm)    3.116278\n",
      "petal width (cm)     0.581006\n",
      "dtype: float64\n"
     ]
    }
   ],
   "source": [
    "from sklearn.datasets import load_iris\n",
    "import pandas as pd\n",
    "\n",
    "iris = load_iris()\n",
    "iris_data = iris.data\n",
    "iris_df = pd.DataFrame(data = iris_data, columns = iris.feature_names)\n",
    "\n",
    "print(iris_df.mean())\n",
    "print(iris_df.var())"
   ]
  },
  {
   "cell_type": "code",
   "execution_count": 6,
   "metadata": {},
   "outputs": [
    {
     "name": "stdout",
     "output_type": "stream",
     "text": [
      "     sepal length (cm)  sepal width (cm)  petal length (cm)  petal width (cm)\n",
      "0            -0.900681          1.019004          -1.340227         -1.315444\n",
      "1            -1.143017         -0.131979          -1.340227         -1.315444\n",
      "2            -1.385353          0.328414          -1.397064         -1.315444\n",
      "3            -1.506521          0.098217          -1.283389         -1.315444\n",
      "4            -1.021849          1.249201          -1.340227         -1.315444\n",
      "..                 ...               ...                ...               ...\n",
      "145           1.038005         -0.131979           0.819596          1.448832\n",
      "146           0.553333         -1.282963           0.705921          0.922303\n",
      "147           0.795669         -0.131979           0.819596          1.053935\n",
      "148           0.432165          0.788808           0.933271          1.448832\n",
      "149           0.068662         -0.131979           0.762758          0.790671\n",
      "\n",
      "[150 rows x 4 columns]\n",
      "--------------------------------------------------------------------------------\n",
      "sepal length (cm)   -1.690315e-15\n",
      "sepal width (cm)    -1.842970e-15\n",
      "petal length (cm)   -1.698641e-15\n",
      "petal width (cm)    -1.409243e-15\n",
      "dtype: float64\n",
      "sepal length (cm)    1.006711\n",
      "sepal width (cm)     1.006711\n",
      "petal length (cm)    1.006711\n",
      "petal width (cm)     1.006711\n",
      "dtype: float64\n"
     ]
    }
   ],
   "source": [
    "from sklearn.preprocessing import StandardScaler\n",
    "\n",
    "scaler = StandardScaler()\n",
    "scaled_data = scaler.fit_transform(iris_df)\n",
    "\n",
    "data_new = pd.DataFrame(scaled_data,columns = iris.feature_names)\n",
    "print(data_new)\n",
    "print('-'*80)\n",
    "print(data_new.mean())\n",
    "print(data_new.var())"
   ]
  },
  {
   "cell_type": "code",
   "execution_count": 7,
   "metadata": {},
   "outputs": [
    {
     "name": "stdout",
     "output_type": "stream",
     "text": [
      "     sepal length (cm)  sepal width (cm)  petal length (cm)  petal width (cm)\n",
      "0             0.222222          0.625000           0.067797          0.041667\n",
      "1             0.166667          0.416667           0.067797          0.041667\n",
      "2             0.111111          0.500000           0.050847          0.041667\n",
      "3             0.083333          0.458333           0.084746          0.041667\n",
      "4             0.194444          0.666667           0.067797          0.041667\n",
      "..                 ...               ...                ...               ...\n",
      "145           0.666667          0.416667           0.711864          0.916667\n",
      "146           0.555556          0.208333           0.677966          0.750000\n",
      "147           0.611111          0.416667           0.711864          0.791667\n",
      "148           0.527778          0.583333           0.745763          0.916667\n",
      "149           0.444444          0.416667           0.694915          0.708333\n",
      "\n",
      "[150 rows x 4 columns]\n",
      "--------------------------------------------------------------------------------\n",
      "sepal length (cm)    0.428704\n",
      "sepal width (cm)     0.440556\n",
      "petal length (cm)    0.467458\n",
      "petal width (cm)     0.458056\n",
      "dtype: float64\n",
      "sepal length (cm)    0.052908\n",
      "sepal width (cm)     0.032983\n",
      "petal length (cm)    0.089522\n",
      "petal width (cm)     0.100869\n",
      "dtype: float64\n"
     ]
    }
   ],
   "source": [
    "from sklearn.preprocessing import MinMaxScaler\n",
    "\n",
    "scaler = MinMaxScaler()\n",
    "scaled_data = scaler.fit_transform(iris_df)\n",
    "\n",
    "data_new = pd.DataFrame(scaled_data,columns = iris.feature_names)\n",
    "print(data_new)\n",
    "print('-'*80)\n",
    "print(data_new.mean())\n",
    "print(data_new.var())"
   ]
  }
 ],
 "metadata": {
  "kernelspec": {
   "display_name": "Python 3",
   "language": "python",
   "name": "python3"
  },
  "language_info": {
   "codemirror_mode": {
    "name": "ipython",
    "version": 3
   },
   "file_extension": ".py",
   "mimetype": "text/x-python",
   "name": "python",
   "nbconvert_exporter": "python",
   "pygments_lexer": "ipython3",
   "version": "3.7.4"
  }
 },
 "nbformat": 4,
 "nbformat_minor": 4
}
