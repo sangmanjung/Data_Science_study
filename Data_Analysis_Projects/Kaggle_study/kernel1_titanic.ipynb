{
 "cells": [
  {
   "cell_type": "markdown",
   "metadata": {},
   "source": [
    "## Kaggle Kernel Study: Titanic dataset\n",
    "#### references (kernel name)\n",
    "- Introduction to Ensembling/Stacking in Python  \n",
    "- Titanic best working Classifier  \n",
    "\n",
    "> Upvote 수가 많은 유명 kernel들을 위주로 필사하고 번역하면서 공부함. 선정 kernel의 내용을 그대로 필사하기보단 스스로의 생각과 의견을 반영하도록 하고, 설명이 부족한 부분이나 모르는 부분은 직접 작성하면서 공부하기 때문에 실제 reference kernel 내용하고 다를 수 있음"
   ]
  },
  {
   "cell_type": "markdown",
   "metadata": {},
   "source": [
    "### Introduction\n",
    "\n",
    "- 앙상블 학습을 하는 기초적인 방법을 제시하는 노트북  \n",
    "\n",
    "- 특히 앙상블 학습 중 Stacking이란 방법을 설명  \n",
    "\n",
    "- Stacking은 첫번째 단계에서 base model로 예측한 후 두번째 단계에서 첫번째 때 구했던 예측값을 토대로 다른 model을 적용하여 실제 output을 예측하는 것으로 간단히 요약  \n",
    "\n",
    "- Titanic 데이터는 앙상블 학습법 뿐만 아니라 데이터 분석을 처음 시작하는 사람들에게 적합한 데이터. 또한 많은 사람들이 review했던 데이터지만 Stacking에 대한 내용이 드문 경우를 고려하여 작성됨  "
   ]
  },
  {
   "cell_type": "code",
   "execution_count": 1,
   "metadata": {},
   "outputs": [],
   "source": [
    "import pandas as pd # 데이터 편집 및 처리\n",
    "import numpy as np # 행렬 대수 수치 계산\n",
    "import re # 정규표현식 모듈\n",
    "import sklearn # machine learning package\n",
    "import xgboost as xgb # tree 기반 boosting model (최종 meta model)\n",
    "import seaborn as sns # 시각화 툴\n",
    "import matplotlib.pyplot as plt # 시각화 툴\n",
    "# matplotlib 시각화를 현재 창에서 바로 보여주도록 함\n",
    "%matplotlib inline\n",
    "\n",
    "import warnings\n",
    "warnings.filterwarnings('ignore') # 가끔 버전 업과 같은 이유로 경고메세지 출력되는 것 무시\n",
    "\n",
    "# Stacking을 위한 base model로 5가지를 사용할 것임\n",
    "from sklearn.ensemble import (RandomForestClassifier, AdaBoostClassifier,GradientBoostingClassifier,ExtraTreesClassifier)\n",
    "from sklearn.svm import SVC # 서포트 벡터 머신 분류기\n",
    "from sklearn.model_selection import KFold # KFold 교차검증"
   ]
  },
  {
   "cell_type": "markdown",
   "metadata": {},
   "source": [
    "### Feature Exploration, Enginieering and Cleaning\n",
    "- 대부분의 Kaggle Kernel (Notebook)이 구성하는 일반적인 방식으로 시작  \n",
    "\n",
    "- 데이터 탐색, feature engineering 기회가 있는지 알아보기, 범주형 데이터 인코딩등의 작업이 필요"
   ]
  },
  {
   "cell_type": "code",
   "execution_count": 2,
   "metadata": {},
   "outputs": [
    {
     "data": {
      "text/html": [
       "<div>\n",
       "<style scoped>\n",
       "    .dataframe tbody tr th:only-of-type {\n",
       "        vertical-align: middle;\n",
       "    }\n",
       "\n",
       "    .dataframe tbody tr th {\n",
       "        vertical-align: top;\n",
       "    }\n",
       "\n",
       "    .dataframe thead th {\n",
       "        text-align: right;\n",
       "    }\n",
       "</style>\n",
       "<table border=\"1\" class=\"dataframe\">\n",
       "  <thead>\n",
       "    <tr style=\"text-align: right;\">\n",
       "      <th></th>\n",
       "      <th>PassengerId</th>\n",
       "      <th>Survived</th>\n",
       "      <th>Pclass</th>\n",
       "      <th>Name</th>\n",
       "      <th>Sex</th>\n",
       "      <th>Age</th>\n",
       "      <th>SibSp</th>\n",
       "      <th>Parch</th>\n",
       "      <th>Ticket</th>\n",
       "      <th>Fare</th>\n",
       "      <th>Cabin</th>\n",
       "      <th>Embarked</th>\n",
       "    </tr>\n",
       "  </thead>\n",
       "  <tbody>\n",
       "    <tr>\n",
       "      <td>0</td>\n",
       "      <td>1</td>\n",
       "      <td>0</td>\n",
       "      <td>3</td>\n",
       "      <td>Braund, Mr. Owen Harris</td>\n",
       "      <td>male</td>\n",
       "      <td>22.0</td>\n",
       "      <td>1</td>\n",
       "      <td>0</td>\n",
       "      <td>A/5 21171</td>\n",
       "      <td>7.2500</td>\n",
       "      <td>NaN</td>\n",
       "      <td>S</td>\n",
       "    </tr>\n",
       "    <tr>\n",
       "      <td>1</td>\n",
       "      <td>2</td>\n",
       "      <td>1</td>\n",
       "      <td>1</td>\n",
       "      <td>Cumings, Mrs. John Bradley (Florence Briggs Th...</td>\n",
       "      <td>female</td>\n",
       "      <td>38.0</td>\n",
       "      <td>1</td>\n",
       "      <td>0</td>\n",
       "      <td>PC 17599</td>\n",
       "      <td>71.2833</td>\n",
       "      <td>C85</td>\n",
       "      <td>C</td>\n",
       "    </tr>\n",
       "    <tr>\n",
       "      <td>2</td>\n",
       "      <td>3</td>\n",
       "      <td>1</td>\n",
       "      <td>3</td>\n",
       "      <td>Heikkinen, Miss. Laina</td>\n",
       "      <td>female</td>\n",
       "      <td>26.0</td>\n",
       "      <td>0</td>\n",
       "      <td>0</td>\n",
       "      <td>STON/O2. 3101282</td>\n",
       "      <td>7.9250</td>\n",
       "      <td>NaN</td>\n",
       "      <td>S</td>\n",
       "    </tr>\n",
       "  </tbody>\n",
       "</table>\n",
       "</div>"
      ],
      "text/plain": [
       "   PassengerId  Survived  Pclass  \\\n",
       "0            1         0       3   \n",
       "1            2         1       1   \n",
       "2            3         1       3   \n",
       "\n",
       "                                                Name     Sex   Age  SibSp  \\\n",
       "0                            Braund, Mr. Owen Harris    male  22.0      1   \n",
       "1  Cumings, Mrs. John Bradley (Florence Briggs Th...  female  38.0      1   \n",
       "2                             Heikkinen, Miss. Laina  female  26.0      0   \n",
       "\n",
       "   Parch            Ticket     Fare Cabin Embarked  \n",
       "0      0         A/5 21171   7.2500   NaN        S  \n",
       "1      0          PC 17599  71.2833   C85        C  \n",
       "2      0  STON/O2. 3101282   7.9250   NaN        S  "
      ]
     },
     "execution_count": 2,
     "metadata": {},
     "output_type": "execute_result"
    }
   ],
   "source": [
    "# 데이터 불러오기\n",
    "train = pd.read_csv('train.csv')\n",
    "test = pd.read_csv('test.csv')\n",
    "\n",
    "# 예측결과에 index별로 접근할 수 있도록 passenger ID값 저장\n",
    "PassengerId = test['PassengerId']\n",
    "\n",
    "train.head(3) # 3번째 행 까지만 출력"
   ]
  },
  {
   "cell_type": "markdown",
   "metadata": {},
   "source": [
    "여기서, 우리는 데이터가 갖는 범주형 변수(categorical variables)들을 잘 활용하여 정보를 얻어낼 수 있도록 해야함"
   ]
  },
  {
   "cell_type": "markdown",
   "metadata": {},
   "source": [
    "#### Feature Engineering\n",
    "이제, feature engineering을 진행하거나 이에 필요한 아이디어를 얻기 위해 범주형 변수들을 분석하거나 수치값을 가지지만 범주형으로 만들수 있는 변수에 대해서 레이블(또는 target 변수)에 영향이 있는 변수들을 확인해야함"
   ]
  },
  {
   "cell_type": "code",
   "execution_count": 3,
   "metadata": {},
   "outputs": [
    {
     "name": "stdout",
     "output_type": "stream",
     "text": [
      "<class 'pandas.core.frame.DataFrame'>\n",
      "RangeIndex: 891 entries, 0 to 890\n",
      "Data columns (total 12 columns):\n",
      "PassengerId    891 non-null int64\n",
      "Survived       891 non-null int64\n",
      "Pclass         891 non-null int64\n",
      "Name           891 non-null object\n",
      "Sex            891 non-null object\n",
      "Age            714 non-null float64\n",
      "SibSp          891 non-null int64\n",
      "Parch          891 non-null int64\n",
      "Ticket         891 non-null object\n",
      "Fare           891 non-null float64\n",
      "Cabin          204 non-null object\n",
      "Embarked       889 non-null object\n",
      "dtypes: float64(2), int64(5), object(5)\n",
      "memory usage: 83.7+ KB\n",
      "None\n",
      "<class 'pandas.core.frame.DataFrame'>\n",
      "RangeIndex: 418 entries, 0 to 417\n",
      "Data columns (total 11 columns):\n",
      "PassengerId    418 non-null int64\n",
      "Pclass         418 non-null int64\n",
      "Name           418 non-null object\n",
      "Sex            418 non-null object\n",
      "Age            332 non-null float64\n",
      "SibSp          418 non-null int64\n",
      "Parch          418 non-null int64\n",
      "Ticket         418 non-null object\n",
      "Fare           417 non-null float64\n",
      "Cabin          91 non-null object\n",
      "Embarked       418 non-null object\n",
      "dtypes: float64(2), int64(4), object(5)\n",
      "memory usage: 36.0+ KB\n",
      "None\n"
     ]
    }
   ],
   "source": [
    "print(train.info()) # train dataset의 전체 관측값 개수는 891\n",
    "print(test.info()) # test dataset의 전체 관측값 개수는 418"
   ]
  },
  {
   "cell_type": "markdown",
   "metadata": {},
   "source": [
    "결측값을 갖는 컬럼은 Age, Cabin, Embarked, Fare"
   ]
  },
  {
   "cell_type": "markdown",
   "metadata": {},
   "source": [
    "#### 1. Pclass\n",
    "Pclass는 결측값이 없고 이미 수치형 값을 갖는 categorical variable. target인 'Survived'에 영향이 있는지 조사"
   ]
  },
  {
   "cell_type": "code",
   "execution_count": 4,
   "metadata": {},
   "outputs": [
    {
     "name": "stdout",
     "output_type": "stream",
     "text": [
      "   Pclass  Survived\n",
      "0       1  0.629630\n",
      "1       2  0.472826\n",
      "2       3  0.242363\n"
     ]
    }
   ],
   "source": [
    "# train 데이터의 'Pclass', 'Survived' 컬럼을 조회\n",
    "# 단, 'Pclass' 기준으로 묶어서 조회하고 index를 따로 사용하지 않는 조건\n",
    "# 조회 시 평균값으로 조회\n",
    "print(train[['Pclass','Survived']].groupby(['Pclass'], as_index = False).mean())"
   ]
  },
  {
   "cell_type": "markdown",
   "metadata": {},
   "source": [
    "Pclass(선실등급)에 따라 생존률이 분명한 차이가 있기 때문에 영향이 있다고 볼 수 있음"
   ]
  },
  {
   "cell_type": "markdown",
   "metadata": {},
   "source": [
    "#### 2. Sex\n",
    "마찬가지로, 결측값이 없는 범주형 변수로, Pclass와 동일한 방법으로 조사"
   ]
  },
  {
   "cell_type": "code",
   "execution_count": 5,
   "metadata": {},
   "outputs": [
    {
     "name": "stdout",
     "output_type": "stream",
     "text": [
      "      Sex  Survived\n",
      "0  female  0.742038\n",
      "1    male  0.188908\n"
     ]
    }
   ],
   "source": [
    "print(train[['Sex','Survived']].groupby(['Sex'], as_index = False).mean())"
   ]
  },
  {
   "cell_type": "markdown",
   "metadata": {},
   "source": [
    "성별에 따라 매우 큰 차이가 발생함을 확인할 수 있음 (추측: 여성과 아이들 먼저 살리고자 하는 통념)"
   ]
  },
  {
   "cell_type": "markdown",
   "metadata": {},
   "source": [
    "#### 3. SibSp and Parch\n",
    "형제자매/배우자 수와 자녀/부모의 수를 가지고 새로운 feature인 'Family Size'를 만들어 분석에 이용"
   ]
  },
  {
   "cell_type": "code",
   "execution_count": 6,
   "metadata": {},
   "outputs": [
    {
     "name": "stdout",
     "output_type": "stream",
     "text": [
      "   FamilySize  Survived\n",
      "0           1  0.303538\n",
      "1           2  0.552795\n",
      "2           3  0.578431\n",
      "3           4  0.724138\n",
      "4           5  0.200000\n",
      "5           6  0.136364\n",
      "6           7  0.333333\n",
      "7           8  0.000000\n",
      "8          11  0.000000\n"
     ]
    }
   ],
   "source": [
    "full_data = [train,test] # 2개 값을 가진 list에 넣기 (train,test 모두 한꺼번에 편집하길 원함)\n",
    "for dataset in full_data:\n",
    "    dataset['FamilySize'] = dataset['SibSp'] + dataset['Parch'] + 1 # +1은 본인\n",
    "    # full_data 내의 2개의 dataframe 모두 'FamilySize' column 생성\n",
    "\n",
    "print(train[['FamilySize','Survived']].groupby(['FamilySize'],as_index = False).mean())\n"
   ]
  },
  {
   "cell_type": "markdown",
   "metadata": {},
   "source": [
    "가족 규모에 따라서 생존률의 차이가 분명히 존재하고, 부양 가족이 많을수록 생존률이 낮은 경향이 있음. 이 결과도 예측에 많은 도움이 될 것으로 예상하지만, 혼자 탑승했는지 아닌지 여부를 좀 더 조사해봄 (혼자인 경우 살아남을 확률이 더 높을 수도 있기 때문에)"
   ]
  },
  {
   "cell_type": "code",
   "execution_count": 7,
   "metadata": {},
   "outputs": [
    {
     "name": "stdout",
     "output_type": "stream",
     "text": [
      "   IsAlone  Survived\n",
      "0        0  0.505650\n",
      "1        1  0.303538\n"
     ]
    }
   ],
   "source": [
    "for dataset in full_data:\n",
    "    dataset['IsAlone'] = 0 # 혼자 탑승 여부를 기록하는 IsAlone 컬럼 생성\n",
    "    # FamilySize가 1(혼자)인 IsAlone의 값을 1(혼자 탑승)로 바꿈\n",
    "    dataset.loc[dataset['FamilySize'] == 1, 'IsAlone'] = 1\n",
    "\n",
    "print(train[['IsAlone','Survived']].groupby(['IsAlone'],as_index = False).mean())"
   ]
  },
  {
   "cell_type": "markdown",
   "metadata": {},
   "source": [
    "확실히 혼자 탑승한 사람의 경우 생존률이 분명하게 떨어지는 경향이 있음을 확인"
   ]
  },
  {
   "cell_type": "markdown",
   "metadata": {},
   "source": [
    "#### 4. Embarked\n",
    "Embarked는 결측값이 존재하기 때문에 결측값을 대체할 수 있어야함"
   ]
  },
  {
   "cell_type": "code",
   "execution_count": 8,
   "metadata": {},
   "outputs": [
    {
     "data": {
      "image/png": "[encoded data removed]",
      "text/plain": [
       "<Figure size 432x288 with 1 Axes>"
      ]
     },
     "metadata": {
      "needs_background": "light"
     },
     "output_type": "display_data"
    }
   ],
   "source": [
    "test.Embarked.hist()\n",
    "plt.show()"
   ]
  },
  {
   "cell_type": "markdown",
   "metadata": {},
   "source": [
    "'S'가 월등히 많이 포함되어 있으므로, 결측값을 'S'로 대체할 경우 실제 데이터의 분포에 영향을 많이 미치지 않기 때문에 대체값은 'S'로 정함. 이제 다음과 같이 column impact를 조사"
   ]
  },
  {
   "cell_type": "code",
   "execution_count": 9,
   "metadata": {},
   "outputs": [
    {
     "name": "stdout",
     "output_type": "stream",
     "text": [
      "  Embarked  Survived\n",
      "0        C  0.553571\n",
      "1        Q  0.389610\n",
      "2        S  0.339009\n"
     ]
    }
   ],
   "source": [
    "for dataset in full_data:\n",
    "    dataset['Embarked'] = dataset['Embarked'].fillna('S')\n",
    "print(train[['Embarked','Survived']].groupby(['Embarked'], as_index = False).mean())"
   ]
  },
  {
   "cell_type": "markdown",
   "metadata": {},
   "source": [
    "위 결과로 Embarked 구분에서 어느정도 차이가 있음을 간략히 확인하였음"
   ]
  },
  {
   "cell_type": "markdown",
   "metadata": {},
   "source": [
    "#### 5. Fare\n",
    "Fare도 Embarked와 마찬가지로 결측값이 존재함. 다음과 같이 Fare의 분포를 확인해봄"
   ]
  },
  {
   "cell_type": "code",
   "execution_count": 10,
   "metadata": {},
   "outputs": [
    {
     "data": {
      "image/png": "[encoded data removed]",
      "text/plain": [
       "<Figure size 432x288 with 1 Axes>"
      ]
     },
     "metadata": {
      "needs_background": "light"
     },
     "output_type": "display_data"
    }
   ],
   "source": [
    "train.Fare.hist()\n",
    "plt.show()"
   ]
  },
  {
   "cell_type": "markdown",
   "metadata": {},
   "source": [
    "전반적으로 0~50 사이에 많이 분포되어 있으며, 100 이상의 값은 상당히 적은 편임. Fare(요금)의 결측값을 대체할시 평균을 고려할 수 있지만, 평균은 큰 값에 영향을 많이 받기 때문에 최종적으로는 실제 분포에 영향을 미칠 수 있게됨. 따라서 중앙값을 사용하는 것이 더 합리적임 (사실 null값이 매우 적은 경우이기 때문에 그냥 drop 해주어도 무방하다고 생각됨)"
   ]
  },
  {
   "cell_type": "markdown",
   "metadata": {},
   "source": [
    "또한, Fare가 Survived에 미치는 영향을 살피기 위해서는 범주화시킬 필요가 있음. 약 4개 범주안에 들어가도록 새로운 컬럼을 생성해야함"
   ]
  },
  {
   "cell_type": "code",
   "execution_count": 11,
   "metadata": {},
   "outputs": [
    {
     "name": "stdout",
     "output_type": "stream",
     "text": [
      "   CategoricalFare  Survived\n",
      "0   (-0.001, 7.91]  0.197309\n",
      "1   (7.91, 14.454]  0.303571\n",
      "2   (14.454, 31.0]  0.454955\n",
      "3  (31.0, 512.329]  0.581081\n"
     ]
    }
   ],
   "source": [
    "for dataset in full_data:\n",
    "    dataset['Fare'] = dataset['Fare'].fillna(train['Fare'].median()) # 중앙값으로 결측값 대체\n",
    "\n",
    "# 실제 데이터는 discrete 하지만, 변수 속성 자체는 continuous 함\n",
    "# 이산화하여 (동일 길이로 나누어서) 범주를 만들기 위해 pandas.qcut() 함수 사용\n",
    "train['CategoricalFare'] = pd.qcut(train['Fare'],4) # Fare 컬럼을 4분할\n",
    "print(train[['CategoricalFare','Survived']].groupby(['CategoricalFare'],as_index = False).mean())\n"
   ]
  },
  {
   "cell_type": "markdown",
   "metadata": {},
   "source": [
    "요금이 높을수록 생존률이 높아짐"
   ]
  },
  {
   "cell_type": "markdown",
   "metadata": {},
   "source": [
    "#### 6. Age\n",
    "Age 또한 결측값이 존재하고, 연속형(continuous) 속성을 갖지만 범주화할 수 있는 변수이므로 범주화를 진행하도록 함. 결측값 대체는 다양한 방법이 있으나 참조하는 커널에서는 단순히 평균값으로 대체하지 않고 평균을 기준으로 표준편차 범위 안에서의 난수로 대체함"
   ]
  },
  {
   "cell_type": "markdown",
   "metadata": {},
   "source": [
    "굳이 난수를 생성해서 결측값을 만드는 이유는 다음과 같이 추정됨\n",
    "\n",
    "- 특정 하나의 값으로만 대체할 경우 그 값에 대한 trend가 생겨 왜곡될 가능성\n",
    "- 연령층이 분포에 영향을 주지 않는 범위에서 고르게 분포될 수 있도록 하기 위함"
   ]
  },
  {
   "cell_type": "code",
   "execution_count": 12,
   "metadata": {},
   "outputs": [
    {
     "name": "stdout",
     "output_type": "stream",
     "text": [
      "  CategoricalAge  Survived\n",
      "0  (-0.08, 16.0]  0.500000\n",
      "1   (16.0, 32.0]  0.363839\n",
      "2   (32.0, 48.0]  0.365462\n",
      "3   (48.0, 64.0]  0.434783\n",
      "4   (64.0, 80.0]  0.090909\n"
     ]
    }
   ],
   "source": [
    "for dataset in full_data:\n",
    "    age_mean = dataset['Age'].mean() # 평균\n",
    "    age_std = dataset['Age'].std() # 표준편차\n",
    "    age_null_count = dataset['Age'].isnull().sum() # 결측값 개수\n",
    "    \n",
    "    # 지정된 구간의 uniform distribution에서 null 개수만큼 정수 난수 뽑기\n",
    "    age_null_random_list = np.random.randint(age_mean - age_std,age_mean + age_std, size = age_null_count)\n",
    "    \n",
    "    # 아래의 np.isnan(dataset['Age']) 은 사실 dataset['Age'].isnull()로 해주어도 상관없음\n",
    "    # 두 경우 모두 Series Type, dtype은 bool로 같음\n",
    "    dataset['Age'][np.isnan(dataset['Age'])] = age_null_random_list # 결측값 자리에 난수 넣어줌\n",
    "    dataset['Age'] = dataset['Age'].astype(int) # int로 형변환 (연령층이므로 소수점은 굳이 필요 X)\n",
    "    \n",
    "# 앞서 범주를 나눈 함수는 qcut()이고 이번에는 cut()을 사용함\n",
    "# qcut: 특정 분위수를 계산하여 이를 기반으로 이산화 수행\n",
    "# cut: 사용자가 이산화할 수치를 직접 입력\n",
    "# qcut(x,q): 이산화할 배열 x, q 는 분위수의 숫자. q = 5면 5분위수\n",
    "# cut(x,bins): 이산화할 배열 x, bins = int 면 동일하게 분할할 숫자, array면 비동일 분할\n",
    "train['CategoricalAge'] = pd.cut(train['Age'],5)\n",
    "\n",
    "print(train[['CategoricalAge','Survived']].groupby(['CategoricalAge'], as_index = False).mean())"
   ]
  },
  {
   "cell_type": "markdown",
   "metadata": {},
   "source": [
    "연령층에 대한 차이가 있으나, 큰 impact가 있다고 보긴 어려움. 아이들이 전반적으로 생존률이 높고 노인층의 생존률이 극히 낮은 것은 어느정도 타당한 결과. (보통 아이와 여성, 노인들을 먼저 구조하고 난 뒤 나머지가 탈출)"
   ]
  },
  {
   "cell_type": "markdown",
   "metadata": {},
   "source": [
    "#### 7. Name\n",
    "이름은 이름을 수식하는 title을 조사"
   ]
  },
  {
   "cell_type": "code",
   "execution_count": 13,
   "metadata": {},
   "outputs": [
    {
     "data": {
      "text/plain": [
       "0                                Braund, Mr. Owen Harris\n",
       "1      Cumings, Mrs. John Bradley (Florence Briggs Th...\n",
       "2                                 Heikkinen, Miss. Laina\n",
       "3           Futrelle, Mrs. Jacques Heath (Lily May Peel)\n",
       "4                               Allen, Mr. William Henry\n",
       "                             ...                        \n",
       "886                                Montvila, Rev. Juozas\n",
       "887                         Graham, Miss. Margaret Edith\n",
       "888             Johnston, Miss. Catherine Helen \"Carrie\"\n",
       "889                                Behr, Mr. Karl Howell\n",
       "890                                  Dooley, Mr. Patrick\n",
       "Name: Name, Length: 891, dtype: object"
      ]
     },
     "execution_count": 13,
     "metadata": {},
     "output_type": "execute_result"
    }
   ],
   "source": [
    "train.Name"
   ]
  },
  {
   "cell_type": "code",
   "execution_count": 14,
   "metadata": {},
   "outputs": [
    {
     "name": "stdout",
     "output_type": "stream",
     "text": [
      "Sex       female  male\n",
      "Title                 \n",
      "Capt           0     1\n",
      "Col            0     2\n",
      "Countess       1     0\n",
      "Don            0     1\n",
      "Dr             1     6\n",
      "Jonkheer       0     1\n",
      "Lady           1     0\n",
      "Major          0     2\n",
      "Master         0    40\n",
      "Miss         182     0\n",
      "Mlle           2     0\n",
      "Mme            1     0\n",
      "Mr             0   517\n",
      "Mrs          125     0\n",
      "Ms             1     0\n",
      "Rev            0     6\n",
      "Sir            0     1\n"
     ]
    }
   ],
   "source": [
    "def get_title(name):\n",
    "    title_search = re.search(' ([A-Za-z]+)\\.', name) # 정규표현식으로 'XXXX.' 꼴 찾기\n",
    "    if title_search: # title이 비어있지 않으면\n",
    "        return title_search.group(1) # 값 반환 (개당 반환이라 group은 신경쓰지 않아도 됨)\n",
    "    return ''\n",
    "\n",
    "for dataset in full_data:\n",
    "    # apply() 함수를 통해 사용자 정의 함수를 데이터프레임에 적용할 수 있음\n",
    "    dataset['Title'] = dataset['Name'].apply(get_title)\n",
    "    \n",
    "print(pd.crosstab(train['Title'],train['Sex'])) #행을 title, 열을 sex로 보여주는 cross table 출력"
   ]
  },
  {
   "cell_type": "markdown",
   "metadata": {},
   "source": [
    "만들어진 title 목록 중 많은 count를 차지하는 title은 몇개 없으므로 이를 정리"
   ]
  },
  {
   "cell_type": "code",
   "execution_count": 15,
   "metadata": {},
   "outputs": [
    {
     "name": "stdout",
     "output_type": "stream",
     "text": [
      "    Title  Survived\n",
      "0  Master  0.575000\n",
      "1    Miss  0.702703\n",
      "2      Mr  0.156673\n",
      "3     Mrs  0.793651\n",
      "4    Rare  0.347826\n"
     ]
    }
   ],
   "source": [
    "for dataset in full_data:\n",
    "    dataset['Title'] = dataset['Title'].replace(['Lady','Countess','Capt','Col',\\\n",
    "                                                'Don','Dr','Major','Rev','Sir','Jonkheer','Dona'],\\\n",
    "                                               'Rare')\n",
    "    # 묶일 수 있는 것들은 합쳐줌\n",
    "    dataset['Title'] = dataset['Title'].replace('Mlle','Miss')\n",
    "    dataset['Title'] = dataset['Title'].replace('Ms','Miss')\n",
    "    dataset['Title'] = dataset['Title'].replace('Mme','Mrs')\n",
    "    \n",
    "print(train[['Title','Survived']].groupby(['Title'],as_index = False).mean())"
   ]
  },
  {
   "cell_type": "markdown",
   "metadata": {},
   "source": [
    "이름에서도 여성을 수식하는 title이 생존률이 높음을 확인할 수 있음"
   ]
  },
  {
   "cell_type": "markdown",
   "metadata": {},
   "source": [
    "#### Data Cleaning"
   ]
  },
  {
   "cell_type": "markdown",
   "metadata": {},
   "source": [
    "categorical value를 갖는 컬럼들을 numerical value로 바꾸어주는 작업을 진행. 인코딩 관련 sklearn 모듈을 사용하지 않고 직접 정리"
   ]
  },
  {
   "cell_type": "code",
   "execution_count": 16,
   "metadata": {},
   "outputs": [],
   "source": [
    "for dataset in full_data:\n",
    "    \n",
    "    # Feature encoding\n",
    "    dataset['Sex'] = dataset['Sex'].map({'female': 0, 'male': 1}).astype(int) # float 자동변환 방지\n",
    "    \n",
    "    title_mapping = {'Mr':1,'Miss':2,'Mrs':3,'Master':4,'Rare':5}\n",
    "    dataset['Title'] = dataset['Title'].map(title_mapping)\n",
    "    dataset['Title'] = dataset['Title'].fillna(0) # title이 없는 이름의 경우\n",
    "    \n",
    "    dataset['Embarked'] = dataset['Embarked'].map({'S':0,'C':1,'Q':2}).astype(int)\n",
    "    \n",
    "    '''\n",
    "       CategoricalFare  Survived\n",
    "    0   (-0.001, 7.91]  0.197309\n",
    "    1   (7.91, 14.454]  0.303571\n",
    "    2   (14.454, 31.0]  0.454955\n",
    "    3  (31.0, 512.329]  0.581081\n",
    "    '''\n",
    "    dataset.loc[dataset['Fare'] <= 7.91,'Fare'] = 0\n",
    "    dataset.loc[(dataset['Fare'] > 7.91) & (dataset['Fare'] <= 14.454), 'Fare'] = 1\n",
    "    dataset.loc[(dataset['Fare'] > 14.454) & (dataset['Fare'] <= 31), 'Fare'] = 2\n",
    "    dataset.loc[ dataset['Fare'] > 31, 'Fare'] = 3\n",
    "    dataset['Fare'] = dataset['Fare'].astype(int)\n",
    "    \n",
    "    '''\n",
    "      CategoricalAge  Survived\n",
    "    0  (-0.08, 16.0]  0.527273\n",
    "    1   (16.0, 32.0]  0.359551\n",
    "    2   (32.0, 48.0]  0.363281\n",
    "    3   (48.0, 64.0]  0.434783\n",
    "    4   (64.0, 80.0]  0.090909\n",
    "    '''\n",
    "    dataset.loc[ dataset['Age'] <= 16, 'Age'] = 0\n",
    "    dataset.loc[(dataset['Age'] > 16) & (dataset['Age'] <= 32), 'Age'] = 1\n",
    "    dataset.loc[(dataset['Age'] > 32) & (dataset['Age'] <= 48), 'Age'] = 2\n",
    "    dataset.loc[(dataset['Age'] > 48) & (dataset['Age'] <= 64), 'Age'] = 3\n",
    "    dataset.loc[ dataset['Age'] > 64, 'Age'] = 4"
   ]
  },
  {
   "cell_type": "code",
   "execution_count": 17,
   "metadata": {},
   "outputs": [
    {
     "name": "stdout",
     "output_type": "stream",
     "text": [
      "   Survived  Pclass  Sex  Age  SibSp  Parch  Fare  Embarked  FamilySize  \\\n",
      "0         0       3    1    1      1      0     0         0           2   \n",
      "1         1       1    0    2      1      0     3         1           2   \n",
      "2         1       3    0    1      0      0     1         0           1   \n",
      "3         1       1    0    2      1      0     3         0           2   \n",
      "4         0       3    1    2      0      0     1         0           1   \n",
      "5         0       3    1    0      0      0     1         2           1   \n",
      "6         0       1    1    3      0      0     3         0           1   \n",
      "7         0       3    1    0      3      1     2         0           5   \n",
      "8         1       3    0    1      0      2     1         0           3   \n",
      "9         1       2    0    0      1      0     2         1           2   \n",
      "\n",
      "   IsAlone  Title  \n",
      "0        0      1  \n",
      "1        0      3  \n",
      "2        1      2  \n",
      "3        0      3  \n",
      "4        1      1  \n",
      "5        1      1  \n",
      "6        1      1  \n",
      "7        0      4  \n",
      "8        0      3  \n",
      "9        0      3  \n"
     ]
    }
   ],
   "source": [
    "# Feature selection\n",
    "drop_elements = ['PassengerId','Name','Ticket','Cabin']\n",
    "train = train.drop(drop_elements,axis = 1)\n",
    "# 앞서 categorical age,fare를 가지고 인코딩해주었기 때문에 필요없으므로 drop\n",
    "train = train.drop(['CategoricalAge','CategoricalFare'],axis = 1)\n",
    "\n",
    "test = test.drop(drop_elements,axis = 1) # test용이므로 건드릴 필요 X. drop할 feature만 제거\n",
    "\n",
    "print(train.head(10))"
   ]
  },
  {
   "cell_type": "markdown",
   "metadata": {},
   "source": [
    "위 결과에서 볼 수 있듯, 모든 변수가 numeric하게 정돈됨으로써 모델을 학습시키기에 알맞은 형태가 됨"
   ]
  },
  {
   "cell_type": "markdown",
   "metadata": {},
   "source": [
    "### Visualisations"
   ]
  },
  {
   "cell_type": "markdown",
   "metadata": {},
   "source": [
    "#### Pearson Correlation Heatmap"
   ]
  },
  {
   "cell_type": "markdown",
   "metadata": {},
   "source": [
    "상관관계를 시각화하는 다양한 방법 중, Heatmap을 통해 이를 확인할 수 있음. Heatmap은 행렬로 표현된 자료의 행렬 원소값에 따라 색을 부여해서 행렬 크기와 같은 격자판에 나타내는 시각화 기법으로, 여기에선 상관계수 행렬을 구한 뒤 Heatmap으로 표현함"
   ]
  },
  {
   "cell_type": "code",
   "execution_count": 18,
   "metadata": {},
   "outputs": [
    {
     "data": {
      "image/png": "[encoded data removed]",
      "text/plain": [
       "<Figure size 1008x864 with 2 Axes>"
      ]
     },
     "metadata": {
      "needs_background": "light"
     },
     "output_type": "display_data"
    }
   ],
   "source": [
    "colormap = plt.cm.RdBu # 팔레트 지정\n",
    "plt.figure(figsize = (14,12)) # 그래프 크기 지정\n",
    "plt.title('Pearson Correlation of Features',y = 1.05, size = 15) # 제목 지정\n",
    "# 선 두께 0.1, 최대값 1, square가 참이면 상삼각행렬부분까지 다 보여줌, annot이 참이면 셀에 값 표시 \n",
    "sns.heatmap(train.astype(float).corr(),linewidths = 0.1,vmax = 1.0, square = True,\\\n",
    "            cmap = colormap, linecolor = 'white', annot = True)\n",
    "plt.show()"
   ]
  },
  {
   "cell_type": "markdown",
   "metadata": {},
   "source": [
    "#### Takeaway from the Plots\n",
    "- Pearson 상관관계 플롯을 출력한 결과를 보면, 특정 변수를 제외하면 뚜렷한 상관성이 보이는 변수가 없다는 것을 확인  \n",
    "\n",
    "- FamilySize와 관련된 변수인 IsAlone, Parch, SibSp의 경우는 상관성이 높은 편이므로 해당 컬럼과 중복되거나 불필요한 데이터가 많다는 의미  \n",
    "\n",
    "- 즉, 상관성이 높은 경우는 학습 데이터셋에 불필요한 데이터가 있거나 중복되는 것이 있다는 의미이므로 해당되는 컬럼 중 나머지 변수들과 상관관계가 가장 적은 컬럼을 제외하고 제거하는것이 좋음"
   ]
  },
  {
   "cell_type": "code",
   "execution_count": 19,
   "metadata": {},
   "outputs": [
    {
     "name": "stdout",
     "output_type": "stream",
     "text": [
      "   Survived  Pclass  Sex  Age  Fare  Embarked  IsAlone  Title\n",
      "0         0       3    1    1     0         0        0      1\n",
      "1         1       1    0    2     3         1        0      3\n",
      "2         1       3    0    1     1         0        1      2\n"
     ]
    }
   ],
   "source": [
    "drop_elements = ['SibSp','Parch', 'FamilySize'] # IsAlone만 남기고 제거\n",
    "train = train.drop(drop_elements, axis = 1)\n",
    "test  = test.drop(drop_elements, axis = 1)\n",
    "\n",
    "print (train.head(3))"
   ]
  },
  {
   "cell_type": "markdown",
   "metadata": {},
   "source": [
    "#### Pairplots\n",
    "데이터의 분포를 직접적으로 확인하기 위해서 pairplot을 사용. pairplot은 서로다른 두 변수에게는 산점도를, 자기 자신은 분포곡선(diag_kind = 'kde')을 그려줌"
   ]
  },
  {
   "cell_type": "code",
   "execution_count": 20,
   "metadata": {},
   "outputs": [
    {
     "data": {
      "image/png": "[encoded data removed]",
      "text/plain": [
       "<Figure size 743.075x691.2 with 72 Axes>"
      ]
     },
     "metadata": {
      "needs_background": "light"
     },
     "output_type": "display_data"
    }
   ],
   "source": [
    "# {plot, diag, grid}_kws: dicts\n",
    "# Dictionaries of keyword arguments.\n",
    "# plot_kws are passed to the bivariate plotting function,\n",
    "# diag_kws are passed to the univariate plotting function,\n",
    "# and grid_kws are passed to the PairGrid constructor.\n",
    "g = sns.pairplot(data = train, hue = 'Survived',palette = 'seismic',\\\n",
    "                 size = 1.2, diag_kind = 'kde',diag_kws = dict(shade = True),plot_kws = dict(s = 10))\n",
    "g.set(xticklabels = [])\n",
    "plt.show()"
   ]
  },
  {
   "cell_type": "markdown",
   "metadata": {},
   "source": [
    "### Ensembling & Stacking models\n",
    "Note) 앙상블 기법: 배깅(Bagging), 부스팅(Boosting), 스태킹(Stacking)  \n",
    "- 배깅: 부트스트랩을 이용한 병렬, 복원추출 (동일모델 여러개)\n",
    "- 부스팅: 순차적, 복원추출 & 가중치를 주는 방식 (동일모델 여러개)\n",
    "- 스태킹: 개별 모델 여러개가 예측한 데이터를 다시 학습 데이터로 활용해서 학습"
   ]
  },
  {
   "cell_type": "markdown",
   "metadata": {},
   "source": [
    "본격적으로 앙상블 학습 및 스태킹 모델을 만들기 위해서 Python의 Class를 이용하여 코드를 작성할 필요가 있음. 이는 코드 간소화 및 작업 효율화를 위함 "
   ]
  },
  {
   "cell_type": "code",
   "execution_count": 21,
   "metadata": {},
   "outputs": [],
   "source": [
    "# 차후에 쓸 주요 파라미터들을 미리 정의\n",
    "ntrain = train.shape[0]\n",
    "ntest = test.shape[0]\n",
    "SEED = 0 # random seed 고정\n",
    "NFOLDS = 5 # Kfold 교차검증 시 데이터 분할 수\n",
    "kf = KFold(n_splits = NFOLDS, random_state = SEED)\n",
    "\n",
    "# 사이킷런 base model 구축을 위한 Class 만들기\n",
    "class SklearnHelper(object):\n",
    "    def __init__(self,clf,seed = 0, params = None):\n",
    "        params['random_state'] = seed\n",
    "        self.clf = clf(**params) # **params: params를 dictionary로 저장\n",
    "        # *args: 정해지지 않은 수의 일반 파라미터를 받음\n",
    "        # **kwargs: 정해지지 않은 수의 키워드 파라미터를 받음 (딕셔너리)\n",
    "        \n",
    "    def train(self,x_train,y_train):\n",
    "        self.clf.fit(x_train,y_train)\n",
    "        \n",
    "    def predict(self,x):\n",
    "        return self.clf.predict(x)\n",
    "    \n",
    "    def fit(self,x,y):\n",
    "        return self.clf.fit(x,y)\n",
    "    \n",
    "    def feature_importances(self,x,y):\n",
    "        print(self.clf.fit(x,y).feature_importances_)"
   ]
  },
  {
   "cell_type": "markdown",
   "metadata": {},
   "source": [
    "#### Out-of-Fold (OOF) Predictions\n",
    "Stacking은 1차적으로 basemodel들로부터 예측한 결과값을 Input으로 2단계 모델에서(Meta model) 최종 예측값을 구하게 되는데, 전체 데이터를 학습시키게 되면 이미 모델이 '확인했던' 데이터셋이므로 과적합이 발생하게 됨.  \n",
    "\n",
    "OOF Prediction은 Cross Validation 기반의 Prediction을 지칭하며, Stacking에서는 아래의 이미지와 같은 방식의 예측을 하는 것을 말함.  \n",
    "\n",
    "- base model인 Model 1 ~ Model 5 까지 KFold 교차검증을 통해 예측값을 구함  \n",
    "\n",
    "- Model 1 ~ 5 까지의 예측값을 다시 합쳐서 새로운 학습 데이터셋을 만듬  \n",
    "\n",
    "- 예측값들로 만들어진 새로운 학습 데이터를 meta model (본모델)에 학습시켜 최종적으로 예측\n",
    "\n",
    "- 이러한 과정에서 meta model에 필요한 새로운 학습데이터를 구축하는 방식을 OOF 라고함"
   ]
  },
  {
   "cell_type": "markdown",
   "metadata": {},
   "source": [
    "![Stacking_datasets](Stacking_dataset.png)"
   ]
  },
  {
   "cell_type": "code",
   "execution_count": 22,
   "metadata": {},
   "outputs": [],
   "source": [
    "# 개별 모델에서 최종 메타 모델이 사용할 학습 및 테스트용 데이터를 생성하는 함수\n",
    "def get_oof(clf,x_train,y_train,x_test):\n",
    "    oof_train = np.zeros((ntrain,)) # predict할 컬럼은 1개('Survived')이므로 1줄짜리 배열\n",
    "    oof_test = np.zeros((ntest,)) # predict할 컬럼은 1개('Survived')이므로 1줄짜리 배열\n",
    "    oof_test_skf = np.empty((NFOLDS,ntest)) # NFOLDS X ntest 크기의 빈 배열 생성\n",
    "    \n",
    "    i = 0\n",
    "    for train_index, test_index in kf.split(x_train): # KFold로 split된 데이터 index 호출\n",
    "        x_tr = x_train[train_index]\n",
    "        y_tr = y_train[train_index]\n",
    "        x_te = x_train[test_index]\n",
    "        \n",
    "        clf.train(x_tr,y_tr) # KFold로 분할된 크기만큼 base model 학습\n",
    "        \n",
    "        oof_train[test_index] = clf.predict(x_te) # level 1 예측결과로 생성된 학습데이터\n",
    "        # oof_train 은 최종 모델의 학습 데이터\n",
    "        oof_test_skf[i,:] = clf.predict(x_test) # level 1 예측결과로 생성된 테스트 데이터\n",
    "        i += 1\n",
    "        \n",
    "    oof_test[:] = oof_test_skf.mean(axis = 0) # 최종 모델의 테스트 데이터\n",
    "    return oof_train.reshape(-1,1), oof_test.reshape(-1,1) # 열벡터 형태로 뽑아냄"
   ]
  },
  {
   "cell_type": "markdown",
   "metadata": {},
   "source": [
    "### Generating our Base First-Level Models\n",
    "다음의 5가지의 base model을 선정함\n",
    "\n",
    "   1. Random Forest classifier  \n",
    "   2. Extra Trees classifier  \n",
    "   3. AdaBoost classifier  \n",
    "   4. Gradient Boosting classifier  \n",
    "   5. Support Vector Machine"
   ]
  },
  {
   "cell_type": "markdown",
   "metadata": {},
   "source": [
    "#### Parameters\n",
    "파라미터 중 주요한 것들을 간략히 살펴보면 다음과 같다.  \n",
    "\n",
    "- __n_jobs__ : 학습을 위해 필요한 core 수. 만약 -1로 설정하면 모든 core가 사용됨\n",
    "\n",
    "- __n_estimators__ : 학습 모델에서 사용할 트리의 개수(Bagging, Boosting의) default = 10\n",
    "\n",
    "- __max_depth__ : 트리의 최대 깊이 또는 노드를 얼마나 많이 확장시킬 것인지 결정. 너무 많은 값을 주면 트리가 과도하게 깊어지면서 과적합이 일어날 수 있음  \n",
    "\n",
    "- __verbose__ : 학습을 진행하는 동안 학습과정과 관련한 모든 텍스트를 출력할지 말지 여부를 결정. 0이면 텍스트 출력을 하지 않고 3이면 매 반복마다 텍스트를 출력"
   ]
  },
  {
   "cell_type": "code",
   "execution_count": 23,
   "metadata": {},
   "outputs": [],
   "source": [
    "# 파라미터 값 설정\n",
    "# rf, et, gb 는 트리 기반이므로 파라미터를 공유\n",
    "# 파라미터 값에 대한 상세한 정보나 표준 값들에 대한 것은 본 주제에서 어긋나므로 kernel 작성자의 값을 그대로 가져옴\n",
    "\n",
    "# Random Forest parameters\n",
    "rf_params = {\n",
    "    'n_jobs': -1,\n",
    "    'n_estimators': 500,\n",
    "     'warm_start': True, \n",
    "     #'max_features': 0.2,\n",
    "    'max_depth': 6,\n",
    "    'min_samples_leaf': 2,\n",
    "    'max_features' : 'sqrt',\n",
    "    'verbose': 0\n",
    "}\n",
    "\n",
    "# Extra Trees Parameters\n",
    "et_params = {\n",
    "    'n_jobs': -1,\n",
    "    'n_estimators':500,\n",
    "    #'max_features': 0.5,\n",
    "    'max_depth': 8,\n",
    "    'min_samples_leaf': 2,\n",
    "    'verbose': 0\n",
    "}\n",
    "\n",
    "# AdaBoost parameters\n",
    "ada_params = {\n",
    "    'n_estimators': 500,\n",
    "    'learning_rate' : 0.75\n",
    "}\n",
    "\n",
    "# Gradient Boosting parameters\n",
    "gb_params = {\n",
    "    'n_estimators': 500,\n",
    "     #'max_features': 0.2,\n",
    "    'max_depth': 5,\n",
    "    'min_samples_leaf': 2,\n",
    "    'verbose': 0\n",
    "}\n",
    "\n",
    "# Support Vector Classifier parameters \n",
    "svc_params = {\n",
    "    'kernel' : 'linear',\n",
    "    'C' : 0.025\n",
    "    }"
   ]
  },
  {
   "cell_type": "code",
   "execution_count": 24,
   "metadata": {},
   "outputs": [],
   "source": [
    "# base model 생성\n",
    "rf = SklearnHelper(clf=RandomForestClassifier, seed=SEED, params=rf_params)\n",
    "et = SklearnHelper(clf=ExtraTreesClassifier, seed=SEED, params=et_params)\n",
    "ada = SklearnHelper(clf=AdaBoostClassifier, seed=SEED, params=ada_params)\n",
    "gb = SklearnHelper(clf=GradientBoostingClassifier, seed=SEED, params=gb_params)\n",
    "svc = SklearnHelper(clf=SVC, seed=SEED, params=svc_params)"
   ]
  },
  {
   "cell_type": "code",
   "execution_count": 25,
   "metadata": {},
   "outputs": [],
   "source": [
    "# model에 학습 및 예측을 위해 데이터를 numpy 배열로 바꿈\n",
    "y_train = train['Survived'].ravel()\n",
    "train = train.drop(['Survived'], axis = 1)\n",
    "x_train = train.values # Creates an array of the train data\n",
    "x_test = test.values # Creats an array of the test data"
   ]
  },
  {
   "cell_type": "markdown",
   "metadata": {},
   "source": [
    "#### Output of the First level Predictions\n",
    "OOF 함수를 이용해서 5가지 base model을 학습"
   ]
  },
  {
   "cell_type": "code",
   "execution_count": 26,
   "metadata": {},
   "outputs": [
    {
     "name": "stdout",
     "output_type": "stream",
     "text": [
      "Training is complete\n"
     ]
    }
   ],
   "source": [
    "# Create our OOF train and test predictions. These base results will be used as new features\n",
    "et_oof_train, et_oof_test = get_oof(et, x_train, y_train, x_test) # Extra Trees\n",
    "rf_oof_train, rf_oof_test = get_oof(rf,x_train, y_train, x_test) # Random Forest\n",
    "ada_oof_train, ada_oof_test = get_oof(ada, x_train, y_train, x_test) # AdaBoost \n",
    "gb_oof_train, gb_oof_test = get_oof(gb,x_train, y_train, x_test) # Gradient Boost\n",
    "svc_oof_train, svc_oof_test = get_oof(svc,x_train, y_train, x_test) # Support Vector Classifier\n",
    "\n",
    "print(\"Training is complete\")"
   ]
  },
  {
   "cell_type": "markdown",
   "metadata": {},
   "source": [
    "#### Feature importances generated from the different classifiers\n",
    "학습한 base model의 feature importance를 확인"
   ]
  },
  {
   "cell_type": "code",
   "execution_count": 27,
   "metadata": {},
   "outputs": [
    {
     "name": "stdout",
     "output_type": "stream",
     "text": [
      "[0.20114353 0.24034775 0.05642972 0.11074569 0.0425756  0.03663963\n",
      " 0.31211809]\n",
      "[0.18980072 0.38935317 0.0481872  0.08760456 0.04178809 0.03579075\n",
      " 0.20747552]\n",
      "[0.022 0.326 0.03  0.04  0.026 0.012 0.544]\n",
      "[0.17817389 0.04199799 0.06681657 0.1008517  0.04218884 0.01981585\n",
      " 0.55015515]\n"
     ]
    }
   ],
   "source": [
    "rf_feature = rf.feature_importances(x_train,y_train)\n",
    "et_feature = et.feature_importances(x_train, y_train)\n",
    "ada_feature = ada.feature_importances(x_train, y_train)\n",
    "gb_feature = gb.feature_importances(x_train,y_train)"
   ]
  },
  {
   "cell_type": "code",
   "execution_count": 28,
   "metadata": {},
   "outputs": [],
   "source": [
    "cols = train.columns.values\n",
    "# Create a dataframe with features\n",
    "feature_dataframe = pd.DataFrame( {'features': cols,\n",
    "     'Random Forest feature importances': rf_feature,\n",
    "     'Extra Trees  feature importances': et_feature,\n",
    "      'AdaBoost feature importances': ada_feature,\n",
    "    'Gradient Boost feature importances': gb_feature\n",
    "    })"
   ]
  },
  {
   "cell_type": "markdown",
   "metadata": {},
   "source": [
    "#### Interactive feature importances via Plotly scatterplots\n",
    "feature importance를 걸러내는 시각화 내용은 skip"
   ]
  },
  {
   "cell_type": "markdown",
   "metadata": {},
   "source": [
    "### Second-Level Predictions from the First-level Output\n",
    "#### First-level output as new features"
   ]
  },
  {
   "cell_type": "markdown",
   "metadata": {},
   "source": [
    "base model로 예측한 결과값들을 학습데이터로 meta model 에 학습"
   ]
  },
  {
   "cell_type": "code",
   "execution_count": 29,
   "metadata": {},
   "outputs": [
    {
     "data": {
      "text/html": [
       "<div>\n",
       "<style scoped>\n",
       "    .dataframe tbody tr th:only-of-type {\n",
       "        vertical-align: middle;\n",
       "    }\n",
       "\n",
       "    .dataframe tbody tr th {\n",
       "        vertical-align: top;\n",
       "    }\n",
       "\n",
       "    .dataframe thead th {\n",
       "        text-align: right;\n",
       "    }\n",
       "</style>\n",
       "<table border=\"1\" class=\"dataframe\">\n",
       "  <thead>\n",
       "    <tr style=\"text-align: right;\">\n",
       "      <th></th>\n",
       "      <th>RandomForest</th>\n",
       "      <th>ExtraTrees</th>\n",
       "      <th>AdaBoost</th>\n",
       "      <th>GradientBoost</th>\n",
       "    </tr>\n",
       "  </thead>\n",
       "  <tbody>\n",
       "    <tr>\n",
       "      <td>0</td>\n",
       "      <td>0.0</td>\n",
       "      <td>0.0</td>\n",
       "      <td>0.0</td>\n",
       "      <td>0.0</td>\n",
       "    </tr>\n",
       "    <tr>\n",
       "      <td>1</td>\n",
       "      <td>1.0</td>\n",
       "      <td>1.0</td>\n",
       "      <td>1.0</td>\n",
       "      <td>1.0</td>\n",
       "    </tr>\n",
       "    <tr>\n",
       "      <td>2</td>\n",
       "      <td>0.0</td>\n",
       "      <td>0.0</td>\n",
       "      <td>1.0</td>\n",
       "      <td>0.0</td>\n",
       "    </tr>\n",
       "    <tr>\n",
       "      <td>3</td>\n",
       "      <td>1.0</td>\n",
       "      <td>1.0</td>\n",
       "      <td>1.0</td>\n",
       "      <td>1.0</td>\n",
       "    </tr>\n",
       "    <tr>\n",
       "      <td>4</td>\n",
       "      <td>0.0</td>\n",
       "      <td>0.0</td>\n",
       "      <td>0.0</td>\n",
       "      <td>0.0</td>\n",
       "    </tr>\n",
       "  </tbody>\n",
       "</table>\n",
       "</div>"
      ],
      "text/plain": [
       "   RandomForest  ExtraTrees  AdaBoost  GradientBoost\n",
       "0           0.0         0.0       0.0            0.0\n",
       "1           1.0         1.0       1.0            1.0\n",
       "2           0.0         0.0       1.0            0.0\n",
       "3           1.0         1.0       1.0            1.0\n",
       "4           0.0         0.0       0.0            0.0"
      ]
     },
     "execution_count": 29,
     "metadata": {},
     "output_type": "execute_result"
    }
   ],
   "source": [
    "# ravel() : 1차원 배열로 펴주는 함수 (flatten)\n",
    "base_predictions_train = pd.DataFrame( {'RandomForest': rf_oof_train.ravel(),\n",
    "     'ExtraTrees': et_oof_train.ravel(),\n",
    "     'AdaBoost': ada_oof_train.ravel(),\n",
    "      'GradientBoost': gb_oof_train.ravel()\n",
    "    })\n",
    "base_predictions_train.head()"
   ]
  },
  {
   "cell_type": "markdown",
   "metadata": {},
   "source": [
    "#### Correlation Heatmap of the Second Level Training set\n",
    "예측 결과값이라고 해도 이제는 feature 데이터셋이기 때문에 상관관계 분석을 실시"
   ]
  },
  {
   "cell_type": "code",
   "execution_count": 30,
   "metadata": {},
   "outputs": [
    {
     "data": {
      "image/png": "[encoded data removed]",
      "text/plain": [
       "<Figure size 1008x864 with 2 Axes>"
      ]
     },
     "metadata": {
      "needs_background": "light"
     },
     "output_type": "display_data"
    }
   ],
   "source": [
    "plt.figure(figsize = (14,12))\n",
    "plt.title('Pearson Correlation of Features',y = 1.05, size = 15)\n",
    "sns.heatmap(base_predictions_train.astype(float).corr(),linewidths = 0.1,vmax = 1.0,\\\n",
    "            square = True,cmap = colormap, linecolor = 'white', annot = True)\n",
    "plt.show()"
   ]
  },
  {
   "cell_type": "markdown",
   "metadata": {},
   "source": [
    "모델 결과 끼리도 상관성이 낮을수록 더 나은 score를 보장해줌을 많은 competition에서 보여주고 있음을 참고"
   ]
  },
  {
   "cell_type": "code",
   "execution_count": 31,
   "metadata": {},
   "outputs": [],
   "source": [
    "x_train = np.concatenate(( et_oof_train, rf_oof_train, ada_oof_train, gb_oof_train, svc_oof_train), axis=1)\n",
    "x_test = np.concatenate(( et_oof_test, rf_oof_test, ada_oof_test, gb_oof_test, svc_oof_test), axis=1)"
   ]
  },
  {
   "cell_type": "markdown",
   "metadata": {},
   "source": [
    "우선 모든 feature를 사용하기로 하고 level 2 meta model을 위한 데이터를 만든다."
   ]
  },
  {
   "cell_type": "markdown",
   "metadata": {},
   "source": [
    "#### Second level learning model via XGBoost\n",
    "Kaggle competition에서 자주 사용되고 있는 모델인 XGBoost를 최종 meta model로 결정"
   ]
  },
  {
   "cell_type": "code",
   "execution_count": 32,
   "metadata": {},
   "outputs": [],
   "source": [
    "gbm = xgb.XGBClassifier(\n",
    "    #learning_rate = 0.02,\n",
    " n_estimators= 2000,\n",
    " max_depth= 4,\n",
    " min_child_weight= 2,\n",
    " #gamma=1,\n",
    " gamma=0.9,                        \n",
    " subsample=0.8,\n",
    " colsample_bytree=0.8,\n",
    " objective= 'binary:logistic', # binary classification problem 이므로\n",
    " nthread= -1,\n",
    " scale_pos_weight=1).fit(x_train, y_train)\n",
    "predictions = gbm.predict(x_test)"
   ]
  },
  {
   "cell_type": "markdown",
   "metadata": {},
   "source": [
    "(파라미터에 대한 자세한 설명은 XGBoost 공식 문서에서 추후에 공부할 것)"
   ]
  },
  {
   "cell_type": "markdown",
   "metadata": {},
   "source": [
    "#### Producing the Submission file\n",
    "XGBoost 모델로 예측값을 얻었으니 competition 결과물 제출을 위한 양식을 만들도록 함"
   ]
  },
  {
   "cell_type": "code",
   "execution_count": 33,
   "metadata": {},
   "outputs": [],
   "source": [
    "StackingSubmission = pd.DataFrame({'PassengerId': PassengerId,'Survived': predictions})\n",
    "StackingSubmission.to_csv(\"StackingSubmission.csv\", index=False)"
   ]
  }
 ],
 "metadata": {
  "kernelspec": {
   "display_name": "Python 3",
   "language": "python",
   "name": "python3"
  },
  "language_info": {
   "codemirror_mode": {
    "name": "ipython",
    "version": 3
   },
   "file_extension": ".py",
   "mimetype": "text/x-python",
   "name": "python",
   "nbconvert_exporter": "python",
   "pygments_lexer": "ipython3",
   "version": "3.7.4"
  }
 },
 "nbformat": 4,
 "nbformat_minor": 4
}
